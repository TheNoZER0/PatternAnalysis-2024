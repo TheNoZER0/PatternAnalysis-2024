{
 "cells": [
  {
   "cell_type": "code",
   "execution_count": 1,
   "metadata": {},
   "outputs": [],
   "source": [
    "import os\n",
    "import random\n",
    "import pandas as pd\n",
    "import numpy as np\n",
    "from PIL import Image\n",
    "import torch\n",
    "from torch.utils.data import Dataset, DataLoader\n",
    "from torchvision import transforms\n",
    "from sklearn.model_selection import train_test_split\n",
    "import matplotlib.pyplot as plt"
   ]
  },
  {
   "cell_type": "markdown",
   "metadata": {},
   "source": [
    "#### Lets try some experimentation here, ill experiment with some class structures after reading Symposium"
   ]
  },
  {
   "cell_type": "code",
   "execution_count": 12,
   "metadata": {},
   "outputs": [],
   "source": [
    "class ISIC2020Dataset(Dataset):\n",
    "    def __init__(self, csv_file, img_dir, transform=None, mode='train', split_ratio=0.8):\n",
    "        self.data = pd.read_csv(csv_file)\n",
    "        self.img_dir = img_dir\n",
    "        self.transform = transform\n",
    "        self.mode = mode\n",
    "\n",
    "        # Split data into train and test\n",
    "        self.train_data, self.test_data = self.train_test_split(split_ratio)\n",
    "\n",
    "        if mode == 'train':\n",
    "            self.data = self.train_data\n",
    "            # Augment minority class to match majority class\n",
    "            # We do this because there is a massive class imbalance in the dataset 95% benign, 5% malignant\n",
    "            benign_count = len(self.data[self.data['target'] == 0])\n",
    "            malignant_samples = self.data[self.data['target'] == 1]\n",
    "            augment_factor = benign_count // len(malignant_samples) - 1\n",
    "            augmented_malignant = pd.concat([malignant_samples] * augment_factor, ignore_index=True)\n",
    "            self.data = pd.concat([self.data, augmented_malignant], ignore_index=True)\n",
    "        else:\n",
    "            self.data = self.test_data\n",
    "\n",
    "        self.benign = self.data[self.data['target'] == 0]\n",
    "        self.malignant = self.data[self.data['target'] == 1]\n",
    "\n",
    "    def __len__(self):\n",
    "        return len(self.data)\n",
    "\n",
    "    def __getitem__(self, idx):\n",
    "        if torch.is_tensor(idx):\n",
    "            idx = idx.tolist()\n",
    "\n",
    "        anchor_row = self.data.iloc[idx]\n",
    "        anchor_img = self.get_image(anchor_row)\n",
    "        anchor_label = anchor_row['target']\n",
    "\n",
    "        if anchor_label == 0:  # benign\n",
    "            positive = self.get_image(self.benign.sample().iloc[0])\n",
    "            negative = self.get_image(self.malignant.sample().iloc[0])\n",
    "        else:  # malignant\n",
    "            positive = self.get_image(self.malignant.sample().iloc[0])\n",
    "            negative = self.get_image(self.benign.sample().iloc[0])\n",
    "\n",
    "        return anchor_img, positive, negative, anchor_label\n",
    "\n",
    "    def get_image(self, row):\n",
    "        img_name = row['image_name']\n",
    "        img_path = os.path.join(self.img_dir, img_name + '.jpg')\n",
    "        image = Image.open(img_path).convert('RGB')\n",
    "        \n",
    "        if self.transform:\n",
    "            image = self.transform(image)\n",
    "        \n",
    "        # Apply additional random augmentation for malignant samples in training mode\n",
    "        # This actually significantly helps with class imbalance\n",
    "        if self.mode == 'train' and row['target'] == 1:\n",
    "            image = self.random_augment(image)\n",
    "        \n",
    "        return image\n",
    "\n",
    "    def random_augment(self, image):\n",
    "        # Define a set of possible augmentations\n",
    "        augmentations = [\n",
    "            transforms.RandomHorizontalFlip(p=0.5),\n",
    "            transforms.RandomVerticalFlip(p=0.5),\n",
    "            transforms.RandomRotation(20),\n",
    "            transforms.ColorJitter(brightness=0.2, contrast=0.2, saturation=0.2, hue=0.1),\n",
    "        ]\n",
    "        # Randomly apply some of these augmentations\n",
    "        for aug in augmentations:\n",
    "            if random.random() > 0.5:\n",
    "                image = aug(image)\n",
    "        return image\n",
    "\n",
    "    def train_test_split(self, split_ratio):\n",
    "        train_data, test_data = train_test_split(\n",
    "            self.data, \n",
    "            test_size=1-split_ratio, \n",
    "            stratify=self.data['target'],\n",
    "            random_state=42\n",
    "        )\n",
    "        return train_data, test_data"
   ]
  },
  {
   "cell_type": "markdown",
   "metadata": {},
   "source": [
    "#### There is problem with class imbalance, maybe ill try some transforms and replicating images"
   ]
  },
  {
   "cell_type": "code",
   "execution_count": 14,
   "metadata": {},
   "outputs": [],
   "source": [
    "base_transform = transforms.Compose([\n",
    "    transforms.Resize((224, 224)),  # Resize to a standard size\n",
    "    transforms.ToTensor(),\n",
    "    transforms.Normalize(mean=[0.485, 0.456, 0.406], std=[0.229, 0.224, 0.225])  # Normalize with ImageNet stats\n",
    "])"
   ]
  },
  {
   "cell_type": "code",
   "execution_count": 16,
   "metadata": {},
   "outputs": [],
   "source": [
    "csv_file = 'ISIC_2020_Training_GroundTruth_v2.csv'\n",
    "img_dir = 'data/ISIC_2020_Training_JPEG/train/'\n",
    "\n",
    "train_dataset = ISIC2020Dataset(csv_file, img_dir, base_transform, mode='train')\n",
    "test_dataset = ISIC2020Dataset(csv_file, img_dir, base_transform, mode='test')"
   ]
  },
  {
   "cell_type": "code",
   "execution_count": 17,
   "metadata": {},
   "outputs": [],
   "source": [
    "# will start with 32 and see how it goes\n",
    "train_loader = DataLoader(train_dataset, batch_size=32, shuffle=True)\n",
    "test_loader = DataLoader(test_dataset, batch_size=32, shuffle=False)"
   ]
  },
  {
   "cell_type": "code",
   "execution_count": 18,
   "metadata": {},
   "outputs": [
    {
     "name": "stdout",
     "output_type": "stream",
     "text": [
      "Number of training samples: 51718\n",
      "Number of testing samples: 6626\n",
      "Number of benign samples in training: 26033\n",
      "Number of malignant samples in training: 25685\n",
      "Number of benign samples in testing: 6509\n",
      "Number of malignant samples in testing: 117\n"
     ]
    }
   ],
   "source": [
    "# print debuggers\n",
    "print(f\"Number of training samples: {len(train_dataset)}\")\n",
    "print(f\"Number of testing samples: {len(test_dataset)}\")\n",
    "print(f\"Number of benign samples in training: {len(train_dataset.benign)}\")\n",
    "print(f\"Number of malignant samples in training: {len(train_dataset.malignant)}\")\n",
    "print(f\"Number of benign samples in testing: {len(test_dataset.benign)}\")\n",
    "print(f\"Number of malignant samples in testing: {len(test_dataset.malignant)}\")"
   ]
  },
  {
   "cell_type": "markdown",
   "metadata": {},
   "source": [
    "### Still class imabalance in testing set\n",
    "possible method to rectify this is using 2019 training set that is labelled with malignant, however there is still under 1000 malignant samples in 2019 dataset. Lets experiment results with what i have now"
   ]
  }
 ],
 "metadata": {
  "kernelspec": {
   "display_name": "3710",
   "language": "python",
   "name": "python3"
  },
  "language_info": {
   "codemirror_mode": {
    "name": "ipython",
    "version": 3
   },
   "file_extension": ".py",
   "mimetype": "text/x-python",
   "name": "python",
   "nbconvert_exporter": "python",
   "pygments_lexer": "ipython3",
   "version": "3.8.19"
  }
 },
 "nbformat": 4,
 "nbformat_minor": 2
}
