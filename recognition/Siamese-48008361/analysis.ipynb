{
 "cells": [
  {
   "cell_type": "code",
   "execution_count": 15,
   "metadata": {},
   "outputs": [
    {
     "name": "stdout",
     "output_type": "stream",
     "text": [
      "     image_name  patient_id   lesion_id     sex  age_approx  \\\n",
      "0  ISIC_2637011  IP_7279968  IL_7972535    male        45.0   \n",
      "1  ISIC_0015719  IP_3075186  IL_4649854  female        45.0   \n",
      "2  ISIC_0052212  IP_2842074  IL_9087444  female        50.0   \n",
      "3  ISIC_0068279  IP_6890425  IL_4255399  female        45.0   \n",
      "4  ISIC_0074268  IP_8723313  IL_6898037  female        55.0   \n",
      "\n",
      "  anatom_site_general_challenge diagnosis benign_malignant  target  \n",
      "0                     head/neck   unknown           benign       0  \n",
      "1               upper extremity   unknown           benign       0  \n",
      "2               lower extremity     nevus           benign       0  \n",
      "3                     head/neck   unknown           benign       0  \n",
      "4               upper extremity   unknown           benign       0  \n",
      "Index(['image_name', 'patient_id', 'lesion_id', 'sex', 'age_approx',\n",
      "       'anatom_site_general_challenge', 'diagnosis', 'benign_malignant',\n",
      "       'target'],\n",
      "      dtype='object')\n"
     ]
    },
    {
     "name": "stderr",
     "output_type": "stream",
     "text": [
      "Exception ignored in: <bound method IPythonKernel._clean_thread_parent_frames of <ipykernel.ipkernel.IPythonKernel object at 0x7fcfb3a4f760>>\n",
      "Traceback (most recent call last):\n",
      "  File \"/home/zer0/miniconda3/envs/3710/lib/python3.8/site-packages/ipykernel/ipkernel.py\", line 775, in _clean_thread_parent_frames\n",
      "    def _clean_thread_parent_frames(\n",
      "KeyboardInterrupt: \n"
     ]
    },
    {
     "ename": "",
     "evalue": "",
     "output_type": "error",
     "traceback": [
      "\u001b[1;31mThe Kernel crashed while executing code in the current cell or a previous cell. \n",
      "\u001b[1;31mPlease review the code in the cell(s) to identify a possible cause of the failure. \n",
      "\u001b[1;31mClick <a href='https://aka.ms/vscodeJupyterKernelCrash'>here</a> for more info. \n",
      "\u001b[1;31mView Jupyter <a href='command:jupyter.viewOutput'>log</a> for further details."
     ]
    }
   ],
   "source": [
    "import pandas as pd\n",
    "import numpy as np\n",
    "import matplotlib.pyplot as plt\n",
    "import os\n",
    "import random\n",
    "import itertools\n",
    "\n",
    "df = pd.read_csv('ISIC_2020_Training_GroundTruth_v2.csv', sep= ',')\n",
    "print(df.head())\n",
    "#df.columns = ['image_name', 'patient_id', 'lesion_id', 'sex', 'age_approx', 'anatom_site_general_challenege', 'diagnosis', 'classification', 'target']\n",
    "df = df[['image_name', 'target']]\n",
    "# Split images by class\n",
    "benign_images = df[df['target'] == 0]['image_name'].tolist()\n",
    "malignant_images = df[df['target'] == 1]['image_name'].tolist()\n",
    "\n",
    "# Generate positive pairs\n",
    "benign_pairs = list(itertools.combinations(benign_images, 2))\n",
    "malignant_pairs = list(itertools.combinations(malignant_images, 2))\n",
    "positive_pairs = benign_pairs + malignant_pairs\n",
    "positive_labels = [1] * len(positive_pairs)\n",
    "\n",
    "# Generate negative pairs\n",
    "num_negative_pairs = len(positive_pairs)\n",
    "negative_pairs = list(zip(random.choices(benign_images, k=num_negative_pairs),\n",
    "                            random.choices(malignant_images, k=num_negative_pairs)))\n",
    "negative_labels = [0] * len(negative_pairs)\n",
    "\n",
    "# Combine all pairs\n",
    "all_pairs = positive_pairs + negative_pairs\n",
    "all_labels = positive_labels + negative_labels\n",
    "\n",
    "# Shuffle\n",
    "combined = list(zip(all_pairs, all_labels))\n",
    "random.shuffle(combined)\n",
    "all_pairs[:], all_labels[:] = zip(*combined)"
   ]
  }
 ],
 "metadata": {
  "kernelspec": {
   "display_name": "3710",
   "language": "python",
   "name": "python3"
  },
  "language_info": {
   "codemirror_mode": {
    "name": "ipython",
    "version": 3
   },
   "file_extension": ".py",
   "mimetype": "text/x-python",
   "name": "python",
   "nbconvert_exporter": "python",
   "pygments_lexer": "ipython3",
   "version": "3.8.19"
  }
 },
 "nbformat": 4,
 "nbformat_minor": 2
}
